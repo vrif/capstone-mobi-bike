{
 "cells": [
  {
   "cell_type": "markdown",
   "metadata": {},
   "source": [
    "Author: Harry Yau\n",
    "\n",
    "Date: Aug 28, 2019"
   ]
  },
  {
   "cell_type": "code",
   "execution_count": 1,
   "metadata": {},
   "outputs": [],
   "source": [
    "import pandas as pd\n",
    "import numpy as np\n",
    "\n",
    "import matplotlib.pyplot as plt\n",
    "\n",
    "import glob as glob\n",
    "import pickle"
   ]
  },
  {
   "cell_type": "code",
   "execution_count": null,
   "metadata": {},
   "outputs": [],
   "source": [
    "data_folder_mobi = 'data/Mobi'\n",
    "data_folder_weather = 'data/weather'\n",
    "pickle_folder = 'pickle'"
   ]
  },
  {
   "cell_type": "markdown",
   "metadata": {},
   "source": [
    "Load Excel and CSV files into pickle format. The data was retrieved from https://www.mobibikes.ca/en/system-data. On retrieval data, only data up to March 2019 was available."
   ]
  },
  {
   "cell_type": "code",
   "execution_count": null,
   "metadata": {},
   "outputs": [
    {
     "name": "stdout",
     "output_type": "stream",
     "text": [
      "data/Mobi\\Mobi_System_Data_2017.xlsx\n",
      "data/Mobi\\Mobi_System_Data_2018-01.xlsx\n",
      "data/Mobi\\Mobi_System_Data_2018-02.xlsx\n",
      "data/Mobi\\Mobi_System_Data_2018-03.xlsx\n",
      "data/Mobi\\Mobi_System_Data_2018-04.xlsx\n",
      "data/Mobi\\Mobi_System_Data_2018-05.xlsx\n"
     ]
    }
   ],
   "source": [
    "xlsx_filelist = glob.glob(data_folder_mobi + '/*.xlsx')\n",
    "csv_filelist = glob.glob(data_folder_mobi + '/*.csv')\n",
    "\n",
    "data_list=[]\n",
    "for file in xlsx_filelist:\n",
    "    print(file)\n",
    "    data_list.append(pd.read_excel(file))\n",
    "    \n",
    "#2019, the files became a csv file.\n",
    "for file in csv_filelist:\n",
    "    print(file)\n",
    "    data_list.append(pd.read_csv(file))"
   ]
  },
  {
   "cell_type": "code",
   "execution_count": null,
   "metadata": {},
   "outputs": [],
   "source": [
    "filename = 'loaded_mobi_data.pkl'\n",
    "outfile = open(pickle_folder + '/' + filename,'wb')\n",
    "pickle.dump(data_list, outfile)\n",
    "outfile.close()"
   ]
  },
  {
   "cell_type": "markdown",
   "metadata": {},
   "source": [
    "Load Meteorological files into pickle format using functions from https://github.com/vrif/envistaweb-decoder. The weather station that was used was 'Vancouver International Airport #2'.  "
   ]
  },
  {
   "cell_type": "code",
   "execution_count": null,
   "metadata": {},
   "outputs": [],
   "source": [
    "%run ../envistaweb-decoder/envistaweb_decoder.py"
   ]
  },
  {
   "cell_type": "code",
   "execution_count": null,
   "metadata": {},
   "outputs": [],
   "source": [
    "file_list = glob.glob(data_folder_weather + '/*.csv')\n",
    "\n",
    "combined_df = []\n",
    "\n",
    "for i, file in enumerate(file_list):\n",
    "    df = load_AQ_data_excel(file)\n",
    "    combined_df.append(df)\n",
    "    print(file)\n",
    "\n",
    "combined_df = pd.concat(combined_df, axis=0)\n",
    "\n",
    "filename = 'YVR_wxdata.pkl'\n",
    "outfile = open(pickle_folder + '/' + filename,'wb')\n",
    "pickle.dump(combined_df, outfile)\n",
    "outfile.close()"
   ]
  }
 ],
 "metadata": {
  "kernelspec": {
   "display_name": "Python 3",
   "language": "python",
   "name": "python3"
  },
  "language_info": {
   "codemirror_mode": {
    "name": "ipython",
    "version": 3
   },
   "file_extension": ".py",
   "mimetype": "text/x-python",
   "name": "python",
   "nbconvert_exporter": "python",
   "pygments_lexer": "ipython3",
   "version": "3.7.3"
  }
 },
 "nbformat": 4,
 "nbformat_minor": 2
}
