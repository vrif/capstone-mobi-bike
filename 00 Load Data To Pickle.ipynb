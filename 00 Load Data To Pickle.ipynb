{
 "cells": [
  {
   "cell_type": "markdown",
   "metadata": {},
   "source": [
    "# 00 Load Data To Pickle"
   ]
  },
  {
   "cell_type": "markdown",
   "metadata": {},
   "source": [
    "Author: Harry Yau\n",
    "\n",
    "Date: Aug 28, 2019"
   ]
  },
  {
   "cell_type": "code",
   "execution_count": 1,
   "metadata": {},
   "outputs": [],
   "source": [
    "import pandas as pd\n",
    "import numpy as np\n",
    "\n",
    "import matplotlib.pyplot as plt\n",
    "\n",
    "import glob as glob\n",
    "import pickle"
   ]
  },
  {
   "cell_type": "code",
   "execution_count": 2,
   "metadata": {},
   "outputs": [],
   "source": [
    "data_folder_mobi = 'data/Mobi'\n",
    "data_folder_weather = 'data/weather'\n",
    "pickle_folder = 'pickle'"
   ]
  },
  {
   "cell_type": "markdown",
   "metadata": {},
   "source": [
    "Load Excel and CSV files into pickle format. The data was retrieved from https://www.mobibikes.ca/en/system-data. On the date of data retrieval, only data up to March 2019 was available."
   ]
  },
  {
   "cell_type": "code",
   "execution_count": 3,
   "metadata": {},
   "outputs": [
    {
     "name": "stdout",
     "output_type": "stream",
     "text": [
      "data/Mobi\\Mobi_System_Data_2017.xlsx\n",
      "data/Mobi\\Mobi_System_Data_2018-01.xlsx\n",
      "data/Mobi\\Mobi_System_Data_2018-02.xlsx\n",
      "data/Mobi\\Mobi_System_Data_2018-03.xlsx\n",
      "data/Mobi\\Mobi_System_Data_2018-04.xlsx\n",
      "data/Mobi\\Mobi_System_Data_2018-05.xlsx\n",
      "data/Mobi\\Mobi_System_Data_2018-06.xlsx\n",
      "data/Mobi\\Mobi_System_Data_2018-07.xlsx\n",
      "data/Mobi\\Mobi_System_Data_2018-08.xlsx\n",
      "data/Mobi\\Mobi_System_Data_2018-09.xlsx\n",
      "data/Mobi\\Mobi_System_Data_2018-10.xlsx\n",
      "data/Mobi\\Mobi_System_Data_2018-11.xlsx\n",
      "data/Mobi\\Mobi_System_Data_2018-12.csv\n",
      "data/Mobi\\Mobi_System_Data_2019-01.csv\n"
     ]
    },
    {
     "name": "stderr",
     "output_type": "stream",
     "text": [
      "C:\\Users\\yauha\\Anaconda3\\envs\\timeseries\\lib\\site-packages\\IPython\\core\\interactiveshell.py:3049: DtypeWarning: Columns (15) have mixed types. Specify dtype option on import or set low_memory=False.\n",
      "  interactivity=interactivity, compiler=compiler, result=result)\n"
     ]
    },
    {
     "name": "stdout",
     "output_type": "stream",
     "text": [
      "data/Mobi\\Mobi_System_Data_2019-02.csv\n",
      "data/Mobi\\Mobi_System_Data_2019-03.csv\n"
     ]
    }
   ],
   "source": [
    "xlsx_filelist = glob.glob(data_folder_mobi + '/*.xlsx')\n",
    "csv_filelist = glob.glob(data_folder_mobi + '/*.csv')\n",
    "\n",
    "data_list=[]\n",
    "for file in xlsx_filelist:\n",
    "    print(file)\n",
    "    data_list.append(pd.read_excel(file))\n",
    "    \n",
    "#2019, the files became a csv file.\n",
    "for file in csv_filelist:\n",
    "    print(file)\n",
    "    data_list.append(pd.read_csv(file))"
   ]
  },
  {
   "cell_type": "code",
   "execution_count": 4,
   "metadata": {},
   "outputs": [],
   "source": [
    "filename = 'loaded_mobi_data.pkl'\n",
    "outfile = open(pickle_folder + '/' + filename,'wb')\n",
    "pickle.dump(data_list, outfile)\n",
    "outfile.close()"
   ]
  },
  {
   "cell_type": "markdown",
   "metadata": {},
   "source": [
    "Load Meteorological files into pickle format using functions from https://github.com/vrif/envistaweb-decoder. Specifically, the function `load_AQ_date_excel()` was used. The weather station that was used was 'Vancouver International Airport #2'. The time format of the data is in timezone PST (no daylight savings), as per the BC Air Data Archive website. "
   ]
  },
  {
   "cell_type": "code",
   "execution_count": 5,
   "metadata": {},
   "outputs": [],
   "source": [
    "def load_AQ_data_excel(url):\n",
    "    \n",
    "    '''\n",
    "    Imports Hourly XLS files from https://envistaweb.env.gov.bc.ca/DynamicTable2.aspx?G_ID=331\n",
    "    Please see readme on how to download files from the website.\n",
    "    This decoder only works with hourly data.\n",
    "    '''\n",
    "    \n",
    "    data = pd.read_excel(url)\n",
    "    \n",
    "    data.columns = data.loc[0]\n",
    "    data.drop(index=[0,1], inplace=True)\n",
    "    data.drop(index=data[-8:].index, inplace=True) #Removes bottom rows.\n",
    "    \n",
    "    for i in range(data.shape[0]):\n",
    "        if (data['Time'].iloc[i] == '24:00 AM'):\n",
    "            data['Date'].iloc[i] += pd.DateOffset(1)\n",
    "        elif (isinstance(data['Time'].iloc[i], datetime.time)):\n",
    "            data['Date'].iloc[i] += pd.to_timedelta(data['Time'].iloc[i].strftime(\"%H:%M:%S\"))\n",
    "        else:\n",
    "            pass\n",
    "    \n",
    "    data.drop(columns='Time', inplace=True)\n",
    "    data['Date'] = pd.to_datetime(data['Date']) #converts to datetime\n",
    "    data.reset_index(drop=True, inplace=True)\n",
    "    \n",
    "    return(data)"
   ]
  },
  {
   "cell_type": "code",
   "execution_count": 9,
   "metadata": {},
   "outputs": [
    {
     "name": "stdout",
     "output_type": "stream",
     "text": [
      "data/weather\\yvr_2017.xls\n",
      "data/weather\\yvr_2018.xls\n",
      "data/weather\\yvr_2019.xls\n"
     ]
    }
   ],
   "source": [
    "file_list = glob.glob(data_folder_weather + '/*.xls')\n",
    "\n",
    "combined_df = []\n",
    "\n",
    "for i, file in enumerate(file_list):\n",
    "    df = load_AQ_data_excel(file)\n",
    "    combined_df.append(df)\n",
    "    print(file)\n",
    "\n",
    "combined_df = pd.concat(combined_df, axis=0)\n",
    "\n",
    "filename = 'YVR_wxdata.pkl'\n",
    "outfile = open(pickle_folder + '/' + filename,'wb')\n",
    "pickle.dump(combined_df, outfile)\n",
    "outfile.close()"
   ]
  }
 ],
 "metadata": {
  "kernelspec": {
   "display_name": "Python 3",
   "language": "python",
   "name": "python3"
  },
  "language_info": {
   "codemirror_mode": {
    "name": "ipython",
    "version": 3
   },
   "file_extension": ".py",
   "mimetype": "text/x-python",
   "name": "python",
   "nbconvert_exporter": "python",
   "pygments_lexer": "ipython3",
   "version": "3.7.3"
  }
 },
 "nbformat": 4,
 "nbformat_minor": 2
}
